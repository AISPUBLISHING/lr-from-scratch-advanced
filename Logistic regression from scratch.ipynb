{
 "cells": [
  {
   "cell_type": "code",
   "execution_count": 152,
   "metadata": {},
   "outputs": [],
   "source": [
    "#implementing LR from scratch\n",
    "import pandas as pd\n",
    "import matplotlib.pyplot as plt\n",
    "import numpy as np"
   ]
  },
  {
   "cell_type": "code",
   "execution_count": 153,
   "metadata": {},
   "outputs": [],
   "source": [
    "def read_data():\n",
    "    df = pd.read_csv('titanic_dataset.csv')\n",
    "    return df.to_numpy()"
   ]
  },
  {
   "cell_type": "code",
   "execution_count": 154,
   "metadata": {},
   "outputs": [],
   "source": [
    "def normalize(data):\n",
    "    minimums = np.min(data, axis = 0)\n",
    "    maximums = np.max(data, axis = 0)\n",
    "    rng = maximums - minimums\n",
    "    normalized_data = 1 - ((maximums - data)/rng)\n",
    "    return normalized_data"
   ]
  },
  {
   "cell_type": "code",
   "execution_count": 155,
   "metadata": {},
   "outputs": [],
   "source": [
    "def visualize(X, y, thetas):\n",
    "    x_0 = X[np.where(y==0.0)]\n",
    "    x_1 = X[np.where(y==1.0)]\n",
    "    \n",
    "    plt.scatter([x_0[:,1]], [x_0[:,2]], c = 'b', label = 'y = 0')\n",
    "    plt.scatter([x_1[:,1]], [x_1[:,2]], c = 'r', label = 'y = 1')\n",
    "    \n",
    "    x1 = np.arange(0, 1, 0.1)\n",
    "    x2 = -(thetas[0,0] + thetas[0,1]*x1)/thetas[0,2]\n",
    "    plt.plot(x1, x2, c = 'k', label = 'reg line')\n",
    "    \n",
    "    plt.xlabel('x1')\n",
    "    plt.ylabel('x2')\n",
    "    plt.legend()\n",
    "    \n",
    "    plt.show()"
   ]
  },
  {
   "cell_type": "code",
   "execution_count": null,
   "metadata": {},
   "outputs": [],
   "source": []
  },
  {
   "cell_type": "code",
   "execution_count": 156,
   "metadata": {},
   "outputs": [],
   "source": [
    "def logistc_function(thetas, X):\n",
    "    #sygmoid\n",
    "    return 1.0/(1 + np.exp(- np.dot(X, thetas.T)))"
   ]
  },
  {
   "cell_type": "code",
   "execution_count": 157,
   "metadata": {},
   "outputs": [],
   "source": [
    "def cost_func(thetas, X, y):\n",
    "    log_func_value = logistc_function(thetas, X)\n",
    "    step1 = y * np.log(log_func_value)\n",
    "    step2 = (1 - y) * np.log(1 - log_func_value)\n",
    "    return np.mean(-step1 - step2)"
   ]
  },
  {
   "cell_type": "code",
   "execution_count": 158,
   "metadata": {},
   "outputs": [],
   "source": [
    "def log_gradient(thetas, X, y): \n",
    "    calc_1 = logistc_function(thetas, X) - y.reshape(X.shape[0],1) \n",
    "    calc_f = np.dot(calc_1.T, X) \n",
    "    return calc_f "
   ]
  },
  {
   "cell_type": "code",
   "execution_count": 159,
   "metadata": {},
   "outputs": [],
   "source": [
    "def gadient_decent(X, y, thetas, learning_rate, convergance_criteria):\n",
    "    cost = cost_func(thetas , X, y)\n",
    "    change = 1\n",
    "    iter_count = 1\n",
    "    \n",
    "    while(change > convergance_criteria):\n",
    "        old_cost = cost\n",
    "        thetas = thetas - (learning_rate * log_gradient(thetas, X, y))\n",
    "        cost = cost_func(thetas, X, y)\n",
    "        change = old_cost - cost\n",
    "        iter_count += 1\n",
    "        \n",
    "    return thetas , iter_count"
   ]
  },
  {
   "cell_type": "code",
   "execution_count": 162,
   "metadata": {},
   "outputs": [],
   "source": [
    "def predict(thetas, X):\n",
    "    prob = logistc_function(thetas, X)\n",
    "    predicted_value = np.where(prob >= 0.1, 1, 0) #decision boundary\n",
    "    return np.squeeze(predicted_value)"
   ]
  },
  {
   "cell_type": "code",
   "execution_count": null,
   "metadata": {},
   "outputs": [],
   "source": []
  },
  {
   "cell_type": "code",
   "execution_count": null,
   "metadata": {},
   "outputs": [],
   "source": []
  },
  {
   "cell_type": "code",
   "execution_count": 163,
   "metadata": {},
   "outputs": [
    {
     "name": "stdout",
     "output_type": "stream",
     "text": [
      "corrects :  722\n",
      "total :  890\n",
      "Accuracy :  81.12359550561797\n"
     ]
    }
   ],
   "source": [
    "#main cell\n",
    "\n",
    "dataset = read_data()\n",
    "normalized = normalize(dataset)\n",
    "learning_rate = 0.01\n",
    "convergance_criteria = 0.001\n",
    "X = normalized[:,:-1]\n",
    "X = np.hstack((np.matrix(np.ones(X.shape[0])).T,X))\n",
    "y = normalized[:,-1]\n",
    "\n",
    "thetas = np.matrix(np.zeros(X.shape[1]))\n",
    "\n",
    "(final_thetas, iter_count) = gadient_decent(X, y, thetas, learning_rate, convergance_criteria)\n",
    "\n",
    "y_pred = predict(final_thetas, X)\n",
    "corrects =  np.sum(y == y_pred)\n",
    "total = y.__len__()\n",
    "print(\"corrects : \",corrects)\n",
    "print(\"total : \", total)\n",
    "print(\"Accuracy : \", corrects/total *100)"
   ]
  },
  {
   "cell_type": "code",
   "execution_count": null,
   "metadata": {},
   "outputs": [],
   "source": []
  },
  {
   "cell_type": "code",
   "execution_count": null,
   "metadata": {},
   "outputs": [],
   "source": []
  },
  {
   "cell_type": "code",
   "execution_count": null,
   "metadata": {},
   "outputs": [],
   "source": []
  },
  {
   "cell_type": "code",
   "execution_count": null,
   "metadata": {},
   "outputs": [],
   "source": []
  },
  {
   "cell_type": "code",
   "execution_count": null,
   "metadata": {},
   "outputs": [],
   "source": []
  },
  {
   "cell_type": "code",
   "execution_count": null,
   "metadata": {},
   "outputs": [],
   "source": []
  },
  {
   "cell_type": "code",
   "execution_count": null,
   "metadata": {},
   "outputs": [],
   "source": []
  },
  {
   "cell_type": "code",
   "execution_count": null,
   "metadata": {},
   "outputs": [],
   "source": []
  },
  {
   "cell_type": "code",
   "execution_count": null,
   "metadata": {},
   "outputs": [],
   "source": []
  }
 ],
 "metadata": {
  "kernelspec": {
   "display_name": "Python 3",
   "language": "python",
   "name": "python3"
  },
  "language_info": {
   "codemirror_mode": {
    "name": "ipython",
    "version": 3
   },
   "file_extension": ".py",
   "mimetype": "text/x-python",
   "name": "python",
   "nbconvert_exporter": "python",
   "pygments_lexer": "ipython3",
   "version": "3.6.9"
  }
 },
 "nbformat": 4,
 "nbformat_minor": 2
}
